{
  "nbformat": 4,
  "nbformat_minor": 0,
  "metadata": {
    "colab": {
      "name": "Untitled1.ipynb",
      "provenance": [],
      "authorship_tag": "ABX9TyMo8trhz+N2ogn2CUgF+h+Z",
      "include_colab_link": true
    },
    "kernelspec": {
      "name": "python3",
      "display_name": "Python 3"
    }
  },
  "cells": [
    {
      "cell_type": "markdown",
      "metadata": {
        "id": "view-in-github",
        "colab_type": "text"
      },
      "source": [
        "<a href=\"https://colab.research.google.com/github/shu-bee/Pytorch_tutorial/blob/main/neural_network_tutorial.ipynb\" target=\"_parent\"><img src=\"https://colab.research.google.com/assets/colab-badge.svg\" alt=\"Open In Colab\"/></a>"
      ]
    },
    {
      "cell_type": "code",
      "metadata": {
        "colab": {
          "base_uri": "https://localhost:8080/"
        },
        "id": "yCssw-LE6TE5",
        "outputId": "6ab9c913-cbd5-4cad-e986-13ccff4c4d3a"
      },
      "source": [
        "import torch\n",
        "import torch.nn as nn\n",
        "import torch.nn.functional as F\n",
        "class Net(nn.Module):\n",
        "\n",
        "  def __init__(self):\n",
        "    super(Net, self).__init__()\n",
        "    self.conv1 = nn.Conv2d(1,6,5)\n",
        "    self.conv2 = nn.Conv2d(6,16,5)\n",
        "    self.fc1 = nn.Linear(16*5*5,120)\n",
        "    self.fc2 = nn.Linear(120,84)\n",
        "    self.fc3 = nn.Linear(84,10)\n",
        "\n",
        "  def forward(self,x):\n",
        "    x = F.max_pool2d(F.relu(self.conv1(x)), (2, 2))\n",
        "    x = F.max_pool2d(F.relu(self.conv2(x)), 2)\n",
        "    x = x.view(-1, self.num_flat_features(x))\n",
        "    x = F.relu(self.fc1(x))\n",
        "    x = F.relu(self.fc2(x))\n",
        "    x = self.fc3(x)\n",
        "    return x\n",
        "\n",
        "  def num_flat_features(self, x):\n",
        "        size = x.size()[1:]  # all dimensions except the batch dimension\n",
        "        num_features = 1\n",
        "        for s in size:\n",
        "            num_features *= s\n",
        "        return num_features\n",
        "\n",
        "net=Net()\n",
        "print(net)"
      ],
      "execution_count": 3,
      "outputs": [
        {
          "output_type": "stream",
          "text": [
            "Net(\n",
            "  (conv1): Conv2d(1, 6, kernel_size=(5, 5), stride=(1, 1))\n",
            "  (conv2): Conv2d(6, 16, kernel_size=(5, 5), stride=(1, 1))\n",
            "  (fc1): Linear(in_features=400, out_features=120, bias=True)\n",
            "  (fc2): Linear(in_features=120, out_features=84, bias=True)\n",
            "  (fc3): Linear(in_features=84, out_features=10, bias=True)\n",
            ")\n"
          ],
          "name": "stdout"
        }
      ]
    },
    {
      "cell_type": "code",
      "metadata": {
        "colab": {
          "base_uri": "https://localhost:8080/"
        },
        "id": "r_kyHjRE_BsV",
        "outputId": "95d1808c-e84f-4b5a-b853-7be9b90b7072"
      },
      "source": [
        "params = list(net.parameters())\n",
        "print(params[0])\n",
        "print(len(params))\n",
        "print(params[0].size())"
      ],
      "execution_count": 9,
      "outputs": [
        {
          "output_type": "stream",
          "text": [
            "Parameter containing:\n",
            "tensor([[[[-0.0305, -0.1144,  0.1985, -0.0225,  0.0103],\n",
            "          [ 0.1752, -0.1226, -0.1910,  0.1956, -0.0213],\n",
            "          [ 0.1349, -0.1718, -0.1893,  0.1885,  0.0675],\n",
            "          [-0.1159,  0.0475,  0.0047, -0.1345, -0.0211],\n",
            "          [-0.0328, -0.0231,  0.0477, -0.1164,  0.1399]]],\n",
            "\n",
            "\n",
            "        [[[ 0.0914, -0.0177, -0.1167,  0.0750,  0.1361],\n",
            "          [-0.0639,  0.0815,  0.1863, -0.0945, -0.0779],\n",
            "          [ 0.1772,  0.0040, -0.0498,  0.1344, -0.1298],\n",
            "          [ 0.1839,  0.0424, -0.0454, -0.0510,  0.1141],\n",
            "          [ 0.1123, -0.1767,  0.1846,  0.1612, -0.0925]]],\n",
            "\n",
            "\n",
            "        [[[-0.1688,  0.0753, -0.1160, -0.0544, -0.1728],\n",
            "          [ 0.1201,  0.1815, -0.0223, -0.0487, -0.1719],\n",
            "          [-0.1817,  0.1881,  0.1771, -0.0523, -0.0298],\n",
            "          [-0.0502, -0.0994, -0.1961, -0.1250,  0.1226],\n",
            "          [-0.0519,  0.1563, -0.1176, -0.1556, -0.0508]]],\n",
            "\n",
            "\n",
            "        [[[-0.1146, -0.0247,  0.0994, -0.0856, -0.0749],\n",
            "          [-0.0819,  0.1218, -0.0241, -0.1161,  0.1970],\n",
            "          [ 0.1733,  0.0765,  0.0283, -0.1392,  0.1751],\n",
            "          [-0.1902, -0.0400,  0.0697, -0.1640, -0.1368],\n",
            "          [ 0.1870,  0.0860, -0.1264, -0.1618,  0.0698]]],\n",
            "\n",
            "\n",
            "        [[[ 0.1988,  0.0997, -0.0689,  0.1635,  0.0829],\n",
            "          [-0.0506,  0.0883, -0.0699,  0.0440, -0.0905],\n",
            "          [ 0.0564, -0.0108,  0.1885,  0.0291, -0.1154],\n",
            "          [-0.1828,  0.0131, -0.0629, -0.1018,  0.0291],\n",
            "          [ 0.0329,  0.0652,  0.0848,  0.0954,  0.1349]]],\n",
            "\n",
            "\n",
            "        [[[-0.0200, -0.1775, -0.0847, -0.1193,  0.0741],\n",
            "          [-0.1465, -0.0507,  0.1338, -0.1355, -0.0532],\n",
            "          [ 0.0862,  0.0107, -0.1139, -0.1641, -0.1906],\n",
            "          [ 0.0488, -0.1181,  0.0180,  0.0695, -0.0239],\n",
            "          [ 0.0152,  0.1222, -0.1944,  0.1240,  0.1005]]]], requires_grad=True)\n",
            "10\n",
            "torch.Size([6, 1, 5, 5])\n"
          ],
          "name": "stdout"
        }
      ]
    },
    {
      "cell_type": "code",
      "metadata": {
        "colab": {
          "base_uri": "https://localhost:8080/"
        },
        "id": "rZ1gxKu_-Em1",
        "outputId": "f5b7a089-bd93-47fa-c82e-eb4a9b9720dd"
      },
      "source": [
        "input = torch.randn(1,1,32,32,requires_grad=True)\n",
        "out=net(input)\n",
        "print(out)"
      ],
      "execution_count": 4,
      "outputs": [
        {
          "output_type": "stream",
          "text": [
            "tensor([[-0.0286,  0.1121,  0.0136, -0.0595, -0.0150,  0.0422,  0.0526,  0.0399,\n",
            "          0.0162,  0.0329]], grad_fn=<AddmmBackward>)\n"
          ],
          "name": "stdout"
        }
      ]
    },
    {
      "cell_type": "code",
      "metadata": {
        "colab": {
          "base_uri": "https://localhost:8080/"
        },
        "id": "rqtczMyB-h22",
        "outputId": "02a1dc86-68de-4fe8-f5b4-a0d7f1d3f3b7"
      },
      "source": [
        "net.zero_grad()\n",
        "out.backward(torch.randn(1,10))\n",
        "print(input.grad)"
      ],
      "execution_count": 5,
      "outputs": [
        {
          "output_type": "stream",
          "text": [
            "tensor([[[[ 8.0381e-05,  4.0336e-06, -4.1977e-05,  ...,  1.0093e-03,\n",
            "            5.4710e-06,  0.0000e+00],\n",
            "          [ 2.3802e-04,  2.1642e-04, -2.9906e-04,  ...,  9.7526e-04,\n",
            "            2.5395e-04,  6.7116e-05],\n",
            "          [-2.8222e-04, -3.8173e-04,  7.9560e-04,  ..., -1.0684e-03,\n",
            "            5.5692e-04,  1.0484e-05],\n",
            "          ...,\n",
            "          [ 5.4998e-06,  5.4259e-04, -9.3578e-04,  ...,  4.4438e-04,\n",
            "            2.3118e-04, -6.0682e-04],\n",
            "          [ 7.5671e-06,  1.9572e-04, -2.6148e-04,  ..., -3.7312e-04,\n",
            "            3.0550e-04, -5.1511e-06],\n",
            "          [ 0.0000e+00,  1.2535e-04, -2.2849e-04,  ..., -7.1257e-04,\n",
            "            3.3837e-04, -3.0602e-04]]]])\n"
          ],
          "name": "stdout"
        }
      ]
    },
    {
      "cell_type": "markdown",
      "metadata": {
        "id": "Yyl-689HAX7o"
      },
      "source": [
        "output=net(input)\n",
        "target=torch.randn(10)\n",
        "target=target.view(1,-1)\n",
        "criterion=nn.MSELoss()\n",
        "print(out)\n",
        "print(target)\n",
        "\n",
        "loss=criterion(output,target)\n",
        "print(loss)"
      ]
    },
    {
      "cell_type": "code",
      "metadata": {
        "colab": {
          "base_uri": "https://localhost:8080/"
        },
        "id": "qeu0GUxRBLmL",
        "outputId": "6f3f9617-b2bf-405d-f5ad-e70825bcb7bf"
      },
      "source": [
        "output = net(input)\n",
        "target = torch.randn(10)  # a dummy target, for example\n",
        "target = target.view(1, -1)  # make it the same shape as output\n",
        "criterion = nn.MSELoss()\n",
        "\n",
        "loss = criterion(output, target)\n",
        "print(loss)\n",
        "print(loss.grad_fn)\n",
        "print(loss.grad_fn.next_functions[0][0])"
      ],
      "execution_count": 21,
      "outputs": [
        {
          "output_type": "stream",
          "text": [
            "tensor(2.4025, grad_fn=<MseLossBackward>)\n",
            "<MseLossBackward object at 0x7fa469a99a20>\n",
            "<AddmmBackward object at 0x7fa469927f28>\n"
          ],
          "name": "stdout"
        }
      ]
    },
    {
      "cell_type": "code",
      "metadata": {
        "colab": {
          "base_uri": "https://localhost:8080/"
        },
        "id": "sK83C1lbCnJt",
        "outputId": "eb6bf552-47d7-4305-c960-dd7f49162761"
      },
      "source": [
        "net.zero_grad()\n",
        "\n",
        "print(net.conv1.bias.grad)\n",
        "\n",
        "loss.backward()\n",
        "\n",
        "print(net.conv1.bias.grad)"
      ],
      "execution_count": 22,
      "outputs": [
        {
          "output_type": "stream",
          "text": [
            "tensor([0., 0., 0., 0., 0., 0.])\n",
            "tensor([-0.0013,  0.0117, -0.0030,  0.0092,  0.0138, -0.0136])\n"
          ],
          "name": "stdout"
        }
      ]
    },
    {
      "cell_type": "code",
      "metadata": {
        "id": "BM9WbAZoESVW"
      },
      "source": [
        "learning_rate = 0.01\n",
        "for f in net.parameters():\n",
        "    f.data.sub_(f.grad.data * learning_rate)"
      ],
      "execution_count": 19,
      "outputs": []
    },
    {
      "cell_type": "code",
      "metadata": {
        "id": "EJ-9pWYmDN-4"
      },
      "source": [
        "import torch.optim as optim\n",
        "\n",
        "optimizer=optim.SGD(net.parameters(),lr=0.01)\n",
        "\n",
        "output = net(input)\n",
        "loss = criterion(output, target)\n",
        "loss.backward()\n",
        "optimizer.step()"
      ],
      "execution_count": 20,
      "outputs": []
    }
  ]
}