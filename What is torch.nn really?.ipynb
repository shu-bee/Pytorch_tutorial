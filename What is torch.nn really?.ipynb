{
  "nbformat": 4,
  "nbformat_minor": 0,
  "metadata": {
    "colab": {
      "name": "Untitled4.ipynb",
      "provenance": [],
      "authorship_tag": "ABX9TyNPkzwK/W+IuEXzxIv/Osto",
      "include_colab_link": true
    },
    "kernelspec": {
      "name": "python3",
      "display_name": "Python 3"
    }
  },
  "cells": [
    {
      "cell_type": "markdown",
      "metadata": {
        "id": "view-in-github",
        "colab_type": "text"
      },
      "source": [
        "<a href=\"https://colab.research.google.com/github/shu-bee/Pytorch_tutorial/blob/main/What%20is%20torch.nn%20really%3F.ipynb\" target=\"_parent\"><img src=\"https://colab.research.google.com/assets/colab-badge.svg\" alt=\"Open In Colab\"/></a>"
      ]
    },
    {
      "cell_type": "markdown",
      "metadata": {
        "id": "zaM7c04LS7oa"
      },
      "source": [
        "What is torch.nn really?\n",
        "\n",
        "PyTorch provides the elegantly designed modules and classes torch.nn , torch.optim , Dataset , and DataLoader to help you create and train neural networks. In order to fully utilize their power and customize them for your problem, you need to really understand exactly what they’re doing. "
      ]
    },
    {
      "cell_type": "code",
      "metadata": {
        "id": "_IoV7II2S8gJ"
      },
      "source": [
        ""
      ],
      "execution_count": 1,
      "outputs": []
    },
    {
      "cell_type": "markdown",
      "metadata": {
        "id": "Rv1kuTVcbaph"
      },
      "source": [
        "MNIST data setup"
      ]
    },
    {
      "cell_type": "code",
      "metadata": {
        "id": "LoozPNrkgL5j"
      },
      "source": [
        "from pathlib import Path\n",
        "import requests\n",
        "DATA_PATH=Path(\"data\")\n",
        "PATH=DATA_PATH/\"mnist\"\n",
        "PATH.mkdir(parents=True,exist_ok=True)\n",
        "URL=\"https://github.com/pytorch/tutorials/raw/master/_static/\"\n",
        "FILENAME=\"mnist.pkl.gz\"\n",
        "\n",
        "if not (PATH/FILENAME).exists():\n",
        "  content=requests.get(URL+FILENAME).content\n",
        "  (PATH/FILENAME).open(\"wb\").write(content)"
      ],
      "execution_count": 2,
      "outputs": []
    },
    {
      "cell_type": "code",
      "metadata": {
        "id": "pHjKz-DQin_q"
      },
      "source": [
        "import pickle\n",
        "import gzip\n",
        "\n",
        "with gzip.open((PATH / FILENAME).as_posix(), \"rb\") as f:\n",
        "        ((x_train, y_train), (x_valid, y_valid), _) = pickle.load(f, encoding=\"latin-1\")"
      ],
      "execution_count": 3,
      "outputs": []
    },
    {
      "cell_type": "markdown",
      "metadata": {
        "id": "Ww7hn1GM7d6X"
      },
      "source": [
        "Each image is 28 x 28, and is being stored as a flattened row of length 784 (=28x28). Let’s take a look at one; we need to reshape it to 2d first."
      ]
    },
    {
      "cell_type": "code",
      "metadata": {
        "colab": {
          "base_uri": "https://localhost:8080/",
          "height": 299
        },
        "id": "_E5hD_hR7XPT",
        "outputId": "a1c1026a-a230-41c7-9fb6-0ff2ee360a65"
      },
      "source": [
        "from matplotlib import pyplot\n",
        "import numpy as np\n",
        "\n",
        "pyplot.imshow(x_train[0].reshape((28, 28)), cmap=\"gray\")\n",
        "print(x_train.shape)\n",
        "print(type(x_train))"
      ],
      "execution_count": 4,
      "outputs": [
        {
          "output_type": "stream",
          "text": [
            "(50000, 784)\n",
            "<class 'numpy.ndarray'>\n"
          ],
          "name": "stdout"
        },
        {
          "output_type": "display_data",
          "data": {
            "image/png": "[encoded data removed]",
            "text/plain": [
              "<Figure size 432x288 with 1 Axes>"
            ]
          },
          "metadata": {
            "tags": [],
            "needs_background": "light"
          }
        }
      ]
    },
    {
      "cell_type": "markdown",
      "metadata": {
        "id": "qSro6mDL_Wu-"
      },
      "source": [
        "Pytorch uses torch.tensor, so we need to convert our data"
      ]
    },
    {
      "cell_type": "code",
      "metadata": {
        "colab": {
          "base_uri": "https://localhost:8080/"
        },
        "id": "EbXOVZsH_khX",
        "outputId": "dcdb6f5d-d35f-458a-9817-acfc8936a88d"
      },
      "source": [
        "import torch\n",
        "print(type(x_train))\n",
        "#conver numpy to torch.tensor\n",
        "#map関数で全てのnumpy arraysに対してtorch.tensorへ変換を行う\n",
        "x_train, y_train, x_valid, y_valid = map(\n",
        "    torch.tensor, (x_train, y_train, x_valid, y_valid)    \n",
        ")\n",
        "n, c =x_train.shape\n",
        "x_train, x_train.shape, y_train.min(), y_train.max()\n",
        "print(x_train, y_train)\n",
        "print(type(x_train))\n",
        "print(x_train.shape)\n",
        "print(y_train.min(), y_train.max())"
      ],
      "execution_count": 5,
      "outputs": [
        {
          "output_type": "stream",
          "text": [
            "<class 'numpy.ndarray'>\n",
            "tensor([[0., 0., 0.,  ..., 0., 0., 0.],\n",
            "        [0., 0., 0.,  ..., 0., 0., 0.],\n",
            "        [0., 0., 0.,  ..., 0., 0., 0.],\n",
            "        ...,\n",
            "        [0., 0., 0.,  ..., 0., 0., 0.],\n",
            "        [0., 0., 0.,  ..., 0., 0., 0.],\n",
            "        [0., 0., 0.,  ..., 0., 0., 0.]]) tensor([5, 0, 4,  ..., 8, 4, 8])\n",
            "<class 'torch.Tensor'>\n",
            "torch.Size([50000, 784])\n",
            "tensor(0) tensor(9)\n"
          ],
          "name": "stdout"
        }
      ]
    },
    {
      "cell_type": "markdown",
      "metadata": {
        "id": "sM07wtwoCCk7"
      },
      "source": [
        "Neural net from scratch(no torch.nn)\n",
        "\n",
        "PyTorch provides methods to create random or zero-filled tensors, which we will use to create our weights and bias for a simple linear model. These are just regular tensors, with one very special addition: we tell PyTorch that they require a gradient. This causes PyTorch to record all of the operations done on the tensor, so that it can calculate the gradient during back-propagation automatically!\n",
        "\n",
        "For the weights, we set requires_grad after the initialization, since we don’t want that step included in the gradient. (Note that a trailling _ in PyTorch signifies that the operation is performed in-place.)"
      ]
    },
    {
      "cell_type": "code",
      "metadata": {
        "id": "mw8gJXCPGkwN"
      },
      "source": [
        "import math\n",
        "\n",
        "weights=torch.randn(784,10)/math.sqrt(784)\n",
        "weights.requires_grad_()\n",
        "bias = torch.zeros(10,requires_grad=True)\n"
      ],
      "execution_count": 6,
      "outputs": []
    },
    {
      "cell_type": "markdown",
      "metadata": {
        "id": "tFnWo8OZIH2s"
      },
      "source": [
        "Thanks to PyTorch’s ability to calculate gradients automatically, we can use any standard Python function (or callable object) as a model! So let’s just write a plain matrix multiplication and broadcasted addition to create a simple linear model. We also need an activation function, so we’ll write log_softmax and use it. Remember: although PyTorch provides lots of pre-written loss functions, activation functions, and so forth, you can easily write your own using plain python. PyTorch will even create fast GPU or vectorized CPU code for your function automatically."
      ]
    },
    {
      "cell_type": "code",
      "metadata": {
        "colab": {
          "base_uri": "https://localhost:8080/"
        },
        "id": "RMfLSQ2uL_oc",
        "outputId": "cca889b7-9c6d-4dbb-c2dd-3407c8346e8b"
      },
      "source": [
        "a = [[1, 0], [0, 1]]\n",
        "b = [[4, 1], [2, 2]]\n",
        "print(np.dot(a, b))\n",
        "print(np.array(a)@np.array(b))"
      ],
      "execution_count": 7,
      "outputs": [
        {
          "output_type": "stream",
          "text": [
            "[[4 1]\n",
            " [2 2]]\n",
            "[[4 1]\n",
            " [2 2]]\n"
          ],
          "name": "stdout"
        }
      ]
    },
    {
      "cell_type": "code",
      "metadata": {
        "id": "tSVASXx0Hyer"
      },
      "source": [
        "def log_softmax(x):\n",
        "  return x-x.exp().sum(-1).log().unsqueeze(-1)\n",
        "\n",
        "#activation function\n",
        "def model(xb):\n",
        "  return log_softmax(xb @ weights+bias)"
      ],
      "execution_count": 8,
      "outputs": []
    },
    {
      "cell_type": "markdown",
      "metadata": {
        "id": "EzB73YrFKIQA"
      },
      "source": [
        "In the above, the @ stands for the dot(=行列積) product operation. \n",
        "\n",
        "https://numpy.org/doc/stable/reference/generated/numpy.dot.html?highlight=dot#numpy.dot\n",
        "\n",
        "We will call our function on one batch of data (in this case, 64 images). This is one forward pass. Note that our predictions won’t be any better than random at this stage, since we start with random weights."
      ]
    },
    {
      "cell_type": "code",
      "metadata": {
        "colab": {
          "base_uri": "https://localhost:8080/"
        },
        "id": "x1i1OBnZKHo4",
        "outputId": "fbe7c349-3658-4692-ad2a-25abf184611c"
      },
      "source": [
        "bs=64\n",
        "xb = x_train[0:bs]\n",
        "preds=model(xb)     # a mini-batch from\n",
        "preds[0], preds.shape#predictions\n",
        "print(preds[0],preds.shape)"
      ],
      "execution_count": 9,
      "outputs": [
        {
          "output_type": "stream",
          "text": [
            "tensor([-2.8124, -2.2856, -2.2421, -1.4903, -2.9896, -2.5176, -2.3334, -2.1105,\n",
            "        -2.5510, -2.5307], grad_fn=<SelectBackward>) torch.Size([64, 10])\n"
          ],
          "name": "stdout"
        }
      ]
    },
    {
      "cell_type": "code",
      "metadata": {
        "id": "Z9Z7YkzDbqp-"
      },
      "source": [
        ""
      ],
      "execution_count": 9,
      "outputs": []
    },
    {
      "cell_type": "markdown",
      "metadata": {
        "id": "S-z4H-ThW86x"
      },
      "source": [
        "As you see, the preds tensor contains not only the tensor values, but also a gradient function. We’ll use this later to do backprop.\n",
        "\n",
        "Let’s implement negative log-likelihood(=負の対数尤度) to use as the loss function (again, we can just use standard Python):"
      ]
    },
    {
      "cell_type": "code",
      "metadata": {
        "colab": {
          "base_uri": "https://localhost:8080/"
        },
        "id": "nqE4Vh-JW70u",
        "outputId": "91c5c083-0f75-4b9d-afcb-1cba9d247ce7"
      },
      "source": [
        "def nll(input, target):\n",
        "  return -input[range(target.shape[0]),target].mean()\n",
        "\n",
        "loss_func=nll\n",
        "a = np.array([[4, 1],[2, 1],[2, 2]])\n",
        "b = np.array([1, 0, 1])\n",
        "print(loss_func(a,b))"
      ],
      "execution_count": 10,
      "outputs": [
        {
          "output_type": "stream",
          "text": [
            "-1.6666666666666667\n"
          ],
          "name": "stdout"
        }
      ]
    },
    {
      "cell_type": "markdown",
      "metadata": {
        "id": "GnZMAW31W8GS"
      },
      "source": [
        "Let’s check our loss with our random model, so we can see if we improve after a backprop pass later."
      ]
    },
    {
      "cell_type": "code",
      "metadata": {
        "colab": {
          "base_uri": "https://localhost:8080/"
        },
        "id": "t4ZRADwrXorP",
        "outputId": "c14830ec-4f21-4d70-e29e-f7b2a462616d"
      },
      "source": [
        "yb = y_train[0:bs]\n",
        "print(yb.shape[0])\n",
        "print(preds.shape)\n",
        "print(loss_func(preds, yb))"
      ],
      "execution_count": 11,
      "outputs": [
        {
          "output_type": "stream",
          "text": [
            "64\n",
            "torch.Size([64, 10])\n",
            "tensor(2.3378, grad_fn=<NegBackward>)\n"
          ],
          "name": "stdout"
        }
      ]
    },
    {
      "cell_type": "markdown",
      "metadata": {
        "id": "yxv1pS-v2wcA"
      },
      "source": [
        "Let’s also implement a function to calculate the accuracy of our model. For each prediction, if the index with the largest value matches the target value, then the prediction was correct."
      ]
    },
    {
      "cell_type": "markdown",
      "metadata": {
        "id": "2P67U5xO6WP-"
      },
      "source": [
        "Let’s check the accuracy of our random model, so we can see if our accuracy improves as our loss improves."
      ]
    },
    {
      "cell_type": "code",
      "metadata": {
        "colab": {
          "base_uri": "https://localhost:8080/"
        },
        "id": "mhrfzPF42ww-",
        "outputId": "32e837b5-6989-4164-c76a-d912b13cb7e0"
      },
      "source": [
        "def accuracy(out,yb):\n",
        "  preds=torch.argmax(out,dim=1)\n",
        "  print(\"preds\",preds,preds.shape)\n",
        "  print(\"yb\",yb,yb.shape)\n",
        "  return (preds==yb).float().mean()\n",
        "\n",
        "print(accuracy(preds,yb))\n"
      ],
      "execution_count": 12,
      "outputs": [
        {
          "output_type": "stream",
          "text": [
            "preds tensor([3, 3, 2, 3, 1, 7, 3, 3, 1, 7, 3, 7, 2, 3, 1, 1, 1, 1, 3, 1, 7, 3, 1, 3,\n",
            "        1, 7, 1, 3, 1, 1, 9, 7, 3, 3, 3, 7, 3, 3, 9, 3, 1, 1, 1, 1, 2, 1, 1, 1,\n",
            "        3, 3, 3, 3, 2, 3, 7, 1, 1, 1, 1, 3, 7, 3, 3, 2]) torch.Size([64])\n",
            "yb tensor([5, 0, 4, 1, 9, 2, 1, 3, 1, 4, 3, 5, 3, 6, 1, 7, 2, 8, 6, 9, 4, 0, 9, 1,\n",
            "        1, 2, 4, 3, 2, 7, 3, 8, 6, 9, 0, 5, 6, 0, 7, 6, 1, 8, 7, 9, 3, 9, 8, 5,\n",
            "        9, 3, 3, 0, 7, 4, 9, 8, 0, 9, 4, 1, 4, 4, 6, 0]) torch.Size([64])\n",
            "tensor(0.1406)\n"
          ],
          "name": "stdout"
        }
      ]
    },
    {
      "cell_type": "markdown",
      "metadata": {
        "id": "QR-X8gBm8Y_j"
      },
      "source": [
        "We can now run a training loop. For each iteration, we will:\n",
        "\n",
        "・select a mini-batch of data (of size bs)\n",
        "\n",
        "・use the model to make predictions\n",
        "\n",
        "・calculate the loss\n",
        "\n",
        "・loss.backward() updates the gradients of the model, in this case, \n",
        "\n",
        "・weights and bias\n",
        "\n",
        "We now use these gradients to update the weights and bias. We do this within the torch.no_grad() context manager, because we do not want these actions to be recorded for our next calculation of the gradient. You can read more about how PyTorch’s Autograd records operations here.\n",
        "\n",
        "We then set the gradients to zero, so that we are ready for the next loop. Otherwise, our gradients would record a running tally of all the operations that had happened (i.e. loss.backward() adds the gradients to whatever is already stored, rather than replacing them)."
      ]
    },
    {
      "cell_type": "code",
      "metadata": {
        "colab": {
          "base_uri": "https://localhost:8080/"
        },
        "id": "qi5XuO_w9-_7",
        "outputId": "13ec97a2-7b94-4355-e9aa-f84c2a8adda2"
      },
      "source": [
        "from IPython.core.debugger import set_trace\n",
        "lr=0.5\n",
        "epochs=2\n",
        "\n",
        "\n",
        "for epoch in range(epochs):\n",
        "  for i in range((n-1)//bs+1):\n",
        "        start_i = i * bs\n",
        "        end_i = start_i + bs\n",
        "        xb = x_train[start_i:end_i]\n",
        "        yb = y_train[start_i:end_i]\n",
        "        pred = model(xb)\n",
        "        loss = loss_func(pred, yb)\n",
        "\n",
        "        loss.backward()\n",
        "        with torch.no_grad():\n",
        "            weights -= weights.grad * lr\n",
        "            bias -= bias.grad * lr\n",
        "            weights.grad.zero_()\n",
        "            bias.grad.zero_()\n",
        "\n",
        "print(x_train.shape,xb.shape)\n",
        "print(pred.shape)\n",
        "print(yb.shape)"
      ],
      "execution_count": 13,
      "outputs": [
        {
          "output_type": "stream",
          "text": [
            "torch.Size([50000, 784]) torch.Size([16, 784])\n",
            "torch.Size([16, 10])\n",
            "torch.Size([16])\n"
          ],
          "name": "stdout"
        }
      ]
    },
    {
      "cell_type": "markdown",
      "metadata": {
        "id": "scbzkmmjA3XZ"
      },
      "source": [
        "That’s it: we’ve created and trained a minimal neural network (in this case, a logistic regression, since we have no hidden layers) entirely from scratch!\n",
        "\n",
        "Let’s check the loss and accuracy and compare those to what we got earlier. We expect that the loss will have decreased and accuracy to have increased, and they have."
      ]
    },
    {
      "cell_type": "code",
      "metadata": {
        "colab": {
          "base_uri": "https://localhost:8080/"
        },
        "id": "OLKshJEAA_N3",
        "outputId": "9ca9e122-d463-44d6-c5a5-040ccfb1b391"
      },
      "source": [
        "print(loss_func(model(xb), yb))\n",
        "print(accuracy(model(xb), yb))"
      ],
      "execution_count": 14,
      "outputs": [
        {
          "output_type": "stream",
          "text": [
            "tensor(0.0819, grad_fn=<NegBackward>)\n",
            "preds tensor([9, 3, 7, 0, 9, 0, 8, 5, 5, 2, 4, 5, 0, 8, 4, 8]) torch.Size([16])\n",
            "yb tensor([9, 3, 7, 0, 9, 0, 8, 5, 5, 2, 4, 5, 0, 8, 4, 8]) torch.Size([16])\n",
            "tensor(1.)\n"
          ],
          "name": "stdout"
        }
      ]
    },
    {
      "cell_type": "markdown",
      "metadata": {
        "id": "rBGsdax2Df7_"
      },
      "source": [
        "Using torch.nn.functional\n",
        "\n",
        "We will now refactor our code, so that it does the same thing as before, only we’ll start taking advantage of PyTorch’s nn classes to make it more concise and flexible. At each step from here, we should be making our code one or more of: shorter, more understandable, and/or more flexible.\n",
        "\n",
        "The first and easiest step is to make our code shorter by replacing our hand-written activation and loss functions with those from torch.nn.functional (which is generally imported into the namespace F by convention). This module contains all the functions in the torch.nn library (whereas other parts of the library contain classes). As well as a wide range of loss and activation functions, you’ll also find here some convenient functions for creating neural nets, such as pooling functions. (There are also functions for doing convolutions, linear layers, etc, but as we’ll see, these are usually better handled using other parts of the library.)\n",
        "\n",
        "If you’re using negative log likelihood loss and log softmax activation, then Pytorch provides a single function F.cross_entropy that combines the two. So we can even remove the activation function from our model."
      ]
    },
    {
      "cell_type": "code",
      "metadata": {
        "id": "-Gd75M3nDmyS"
      },
      "source": [
        "import torch.nn.functional as F\n",
        "\n",
        "loss_func = F.cross_entropy\n",
        "#=>RELUなど他の活性化関数を使いたい時は？\n",
        "#def log_softmax(x):\n",
        "#    return x - x.exp().sum(-1).log().unsqueeze(-1)\n",
        "#def model(xb):\n",
        "#    return log_softmax(xb @ weights + bias)\n",
        "\n",
        "def model(xb):\n",
        "    return xb @ weights + bias"
      ],
      "execution_count": 15,
      "outputs": []
    },
    {
      "cell_type": "markdown",
      "metadata": {
        "id": "Hl883ATjTLVX"
      },
      "source": [
        "Note that we no longer call log_softmax in the model function. Let’s confirm that our loss and accuracy are the same as before:"
      ]
    },
    {
      "cell_type": "code",
      "metadata": {
        "colab": {
          "base_uri": "https://localhost:8080/"
        },
        "id": "1LWdY4D5TRYU",
        "outputId": "334cd8b9-9386-40d0-f14f-03f2dd692502"
      },
      "source": [
        "print(loss_func(model(xb), yb))\n",
        "print(accuracy(model(xb), yb))"
      ],
      "execution_count": 16,
      "outputs": [
        {
          "output_type": "stream",
          "text": [
            "tensor(0.0819, grad_fn=<NllLossBackward>)\n",
            "preds tensor([9, 3, 7, 0, 9, 0, 8, 5, 5, 2, 4, 5, 0, 8, 4, 8]) torch.Size([16])\n",
            "yb tensor([9, 3, 7, 0, 9, 0, 8, 5, 5, 2, 4, 5, 0, 8, 4, 8]) torch.Size([16])\n",
            "tensor(1.)\n"
          ],
          "name": "stdout"
        }
      ]
    },
    {
      "cell_type": "markdown",
      "metadata": {
        "id": "19fVU4krav4k"
      },
      "source": [
        "Refactor using nn.Module\n",
        "\n",
        "Next up, we’ll use nn.Module and nn.Parameter, for a clearer and more concise training loop. We subclass nn.Module (which itself is a class and able to keep track of state). In this case, we want to create a class that holds our weights, bias, and method for the forward step. nn.Module has a number of attributes and methods (such as .parameters() and .zero_grad()) which we will be using."
      ]
    },
    {
      "cell_type": "markdown",
      "metadata": {
        "id": "pehmNI5gf0oL"
      },
      "source": [
        "nn.Module (uppercase M) is a PyTorch specific concept, and is a class we’ll be using a lot. nn.Module is not to be confused with the Python concept of a (lowercase m) module, which is a file of Python code that can be imported."
      ]
    },
    {
      "cell_type": "code",
      "metadata": {
        "id": "OKjKmmmWbygr"
      },
      "source": [
        "from torch import nn\n",
        "\n",
        "class Mnist_Logistic(nn.Module):\n",
        "    def __init__(self):\n",
        "        super().__init__()\n",
        "        self.weights = nn.Parameter(torch.randn(784, 10) / math.sqrt(784))\n",
        "        self.bias = nn.Parameter(torch.zeros(10))\n",
        "\n",
        "    def forward(self, xb):\n",
        "        return xb @ self.weights + self.bias"
      ],
      "execution_count": 17,
      "outputs": []
    },
    {
      "cell_type": "markdown",
      "metadata": {
        "id": "tFKfD8Hdgt-t"
      },
      "source": [
        "Since we’re now using an object instead of just using a function, we first have to instantiate our model:"
      ]
    },
    {
      "cell_type": "code",
      "metadata": {
        "id": "VR25v0Amg9U4"
      },
      "source": [
        "model =Mnist_Logistic()"
      ],
      "execution_count": 18,
      "outputs": []
    },
    {
      "cell_type": "markdown",
      "metadata": {
        "id": "KoWTdjW0igiX"
      },
      "source": [
        "Now we can calculate the loss in the same way as before. Note that nn.Module objects are used as if they are functions (i.e they are callable), but behind the scenes Pytorch will call our forward method automatically."
      ]
    },
    {
      "cell_type": "code",
      "metadata": {
        "colab": {
          "base_uri": "https://localhost:8080/"
        },
        "id": "_5Yu1NrOihga",
        "outputId": "50c0b21f-c4bd-44d2-f899-b9efa8a91229"
      },
      "source": [
        "pred=model(xb)\n",
        "print(pred.shape,yb.shape)\n",
        "print(loss_func(model(xb), yb))"
      ],
      "execution_count": 19,
      "outputs": [
        {
          "output_type": "stream",
          "text": [
            "torch.Size([16, 10]) torch.Size([16])\n",
            "tensor(2.3508, grad_fn=<NllLossBackward>)\n"
          ],
          "name": "stdout"
        }
      ]
    },
    {
      "cell_type": "markdown",
      "metadata": {
        "id": "0DNm-F9lijv0"
      },
      "source": [
        "Previously for our training loop we had to update the values for each parameter by name, and manually zero out the grads for each parameter separately, like this:"
      ]
    },
    {
      "cell_type": "code",
      "metadata": {
        "id": "NPfUNTn2itBZ"
      },
      "source": [
        "#with torch.no_grad():\n",
        "#    weights -= weights.grad * lr\n",
        "#    bias -= bias.grad * lr\n",
        "#    weights.grad.zero_()\n",
        "#    bias.grad.zero_()"
      ],
      "execution_count": 20,
      "outputs": []
    },
    {
      "cell_type": "markdown",
      "metadata": {
        "id": "nLH1XQIjm1MS"
      },
      "source": [
        "Now we can take advantage of model.parameters() and model.zero_grad() (which are both defined by PyTorch for nn.Module) to make those steps more concise and less prone to the error of forgetting some of our parameters, particularly if we had a more complicated model:"
      ]
    },
    {
      "cell_type": "code",
      "metadata": {
        "id": "8Tb_nx2yolCR"
      },
      "source": [
        "#with torch.no_grad():\n",
        "#    for p in model.parameters(): p -= p.grad * lr\n",
        "#    model.zero_grad()"
      ],
      "execution_count": 21,
      "outputs": []
    },
    {
      "cell_type": "markdown",
      "metadata": {
        "id": "Qk03TL1mMssU"
      },
      "source": [
        "We’ll wrap our little training loop in a fit function so we can run it again later."
      ]
    },
    {
      "cell_type": "code",
      "metadata": {
        "id": "T7DSOOa9Mt-1"
      },
      "source": [
        "def fit():\n",
        "    for epoch in range(epochs):\n",
        "        for i in range((n - 1) // bs + 1):\n",
        "            start_i = i * bs\n",
        "            end_i = start_i + bs\n",
        "            xb = x_train[start_i:end_i]\n",
        "            yb = y_train[start_i:end_i]\n",
        "            pred = model(xb)\n",
        "            loss = loss_func(pred, yb)\n",
        "\n",
        "            loss.backward()\n",
        "            with torch.no_grad():\n",
        "                for p in model.parameters():\n",
        "                    p -= p.grad * lr\n",
        "                model.zero_grad()\n",
        "\n",
        "fit()"
      ],
      "execution_count": 22,
      "outputs": []
    },
    {
      "cell_type": "markdown",
      "metadata": {
        "id": "rnQsjz0IQRoM"
      },
      "source": [
        "Let’s double-check that our loss has gone down:"
      ]
    },
    {
      "cell_type": "code",
      "metadata": {
        "colab": {
          "base_uri": "https://localhost:8080/"
        },
        "id": "BSdq-FztQkU-",
        "outputId": "26a762a1-88ef-4d8e-a0c5-1dcd9071fc53"
      },
      "source": [
        "print(loss_func(model(xb), yb))"
      ],
      "execution_count": 23,
      "outputs": [
        {
          "output_type": "stream",
          "text": [
            "tensor(0.0818, grad_fn=<NllLossBackward>)\n"
          ],
          "name": "stdout"
        }
      ]
    },
    {
      "cell_type": "markdown",
      "metadata": {
        "id": "fUyUsMOXQjFR"
      },
      "source": [
        "Refactor using nn.Linear\n",
        "\n",
        "We continue to refactor our code. Instead of manually defining and initializing self.weights and self.bias, and calculating xb  @ self.weights + self.bias, we will instead use the Pytorch class nn.Linear for a linear layer, which does all that for us. Pytorch has many types of predefined layers that can greatly simplify our code, and often makes it faster too."
      ]
    },
    {
      "cell_type": "code",
      "metadata": {
        "id": "hsvl_yJIcopO"
      },
      "source": [
        "#class Mnist_Logistic(nn.Module):\n",
        "#    def __init__(self):\n",
        "#        super().__init__()\n",
        "#        self.weights = nn.Parameter(torch.randn(784, 10) / math.sqrt(784))\n",
        "#        self.bias = nn.Parameter(torch.zeros(10))\n",
        "#    def forward(self, xb):\n",
        "#        return xb @ self.weights + self.bias\n",
        "\n",
        "class Mnist_Logistic(nn.Module):\n",
        "    def __init__(self):\n",
        "        super().__init__()\n",
        "        self.lin = nn.Linear(784, 10)\n",
        "\n",
        "    def forward(self, xb):\n",
        "        return self.lin(xb)"
      ],
      "execution_count": 24,
      "outputs": []
    },
    {
      "cell_type": "markdown",
      "metadata": {
        "id": "MNOWTPMEcxqE"
      },
      "source": [
        "We instantiate our model and calculate the loss in the same way as before:"
      ]
    },
    {
      "cell_type": "code",
      "metadata": {
        "colab": {
          "base_uri": "https://localhost:8080/"
        },
        "id": "_uT9Hp5fc1nB",
        "outputId": "9a7f1267-0ae7-4d35-98e0-a57335f03a6c"
      },
      "source": [
        "model = Mnist_Logistic()\n",
        "print(loss_func(model(xb), yb))"
      ],
      "execution_count": 25,
      "outputs": [
        {
          "output_type": "stream",
          "text": [
            "tensor(2.3160, grad_fn=<NllLossBackward>)\n"
          ],
          "name": "stdout"
        }
      ]
    },
    {
      "cell_type": "markdown",
      "metadata": {
        "id": "Vho-a1-bq5kq"
      },
      "source": [
        "We are still able to use our same fit method as before."
      ]
    },
    {
      "cell_type": "code",
      "metadata": {
        "colab": {
          "base_uri": "https://localhost:8080/"
        },
        "id": "z2UFnr1KtOpu",
        "outputId": "a9f1399c-bb7d-4b03-ef68-b4323f9e09ee"
      },
      "source": [
        "fit()\n",
        "print(loss_func(model(xb), yb))"
      ],
      "execution_count": 26,
      "outputs": [
        {
          "output_type": "stream",
          "text": [
            "tensor(0.0809, grad_fn=<NllLossBackward>)\n"
          ],
          "name": "stdout"
        }
      ]
    },
    {
      "cell_type": "markdown",
      "metadata": {
        "id": "PELYFLdEtf0V"
      },
      "source": [
        "Refactor using optim\n",
        "\n",
        "Pytorch also has a package with various optimization algorithms, torch.optim. We can use the step method from our optimizer to take a forward step, instead of manually updating each parameter.\n",
        "\n",
        "This will let us replace our previous manually coded optimization step"
      ]
    },
    {
      "cell_type": "code",
      "metadata": {
        "id": "99ufRPstvmuT"
      },
      "source": [
        "with torch.no_grad():\n",
        "    for p in model.parameters(): p -= p.grad * lr\n",
        "    model.zero_grad()"
      ],
      "execution_count": 27,
      "outputs": []
    },
    {
      "cell_type": "markdown",
      "metadata": {
        "id": "Jla0VdiJvo1M"
      },
      "source": [
        "and instead use just:"
      ]
    },
    {
      "cell_type": "code",
      "metadata": {
        "id": "QY1ot_DjvrLS"
      },
      "source": [
        "#opt.step()\n",
        "#opt.zero_grad()"
      ],
      "execution_count": 28,
      "outputs": []
    },
    {
      "cell_type": "markdown",
      "metadata": {
        "id": "_W5v38vUy7IY"
      },
      "source": [
        "(optim.zero_grad() resets the gradient to 0 and we need to call it before computing the gradient for the next minibatch.)"
      ]
    },
    {
      "cell_type": "code",
      "metadata": {
        "id": "D77iXRvLzCIE"
      },
      "source": [
        "from torch import optim"
      ],
      "execution_count": 29,
      "outputs": []
    },
    {
      "cell_type": "markdown",
      "metadata": {
        "id": "Pq9359DN0Uvp"
      },
      "source": [
        "We’ll define a little function to create our model and optimizer so we can reuse it in the future."
      ]
    },
    {
      "cell_type": "code",
      "metadata": {
        "colab": {
          "base_uri": "https://localhost:8080/"
        },
        "id": "Zuim41vK0Vmx",
        "outputId": "0bd9e595-02a0-41bd-c8db-f5312e5a4773"
      },
      "source": [
        "def get_model():\n",
        "    model = Mnist_Logistic()\n",
        "    return model, optim.SGD(model.parameters(), lr=lr)\n",
        "\n",
        "model, opt = get_model()\n",
        "print(loss_func(model(xb), yb))\n",
        "\n",
        "for epoch in range(epochs):\n",
        "    for i in range((n - 1) // bs + 1):\n",
        "        start_i = i * bs\n",
        "        end_i = start_i + bs\n",
        "        xb = x_train[start_i:end_i]\n",
        "        yb = y_train[start_i:end_i]\n",
        "        pred = model(xb)\n",
        "        loss = loss_func(pred, yb)\n",
        "\n",
        "        loss.backward()\n",
        "        opt.step()\n",
        "        opt.zero_grad()\n",
        "\n",
        "print(loss_func(model(xb), yb))"
      ],
      "execution_count": 30,
      "outputs": [
        {
          "output_type": "stream",
          "text": [
            "tensor(2.3495, grad_fn=<NllLossBackward>)\n",
            "tensor(0.0815, grad_fn=<NllLossBackward>)\n"
          ],
          "name": "stdout"
        }
      ]
    },
    {
      "cell_type": "markdown",
      "metadata": {
        "id": "6iH6z-4Z0aJA"
      },
      "source": [
        "Refactor using Dataset\n",
        "\n",
        "PyTorch has an abstract Dataset class. A Dataset can be anything that has a __len__ function (called by Python’s standard len function) and a __getitem__ function as a way of indexing into it. This tutorial walks through a nice example of creating a custom FacialLandmarkDataset class as a subclass of Dataset.\n",
        "\n",
        "PyTorch’s TensorDataset is a Dataset wrapping tensors. \n",
        "By defining a length and way of indexing, this also gives us a way to iterate, index, and slice along the first dimension of a tensor. \n",
        "\n",
        "（日本語訳注：DatasetがTensorの最初の次元をもとにデータの操作を行うのは、最初の次元が個々のデータのインデックス（何番目のデータなのか）を表しているためです。例えば、MNISTデータセットの場合は、一時限目がデータのインデックス、2次元目がx座標、3次元目がy座標になります）\n",
        "\n",
        "This will make it easier to access both the independent and dependent variables in the same line as we train.\n",
        "\n",
        "（日本語訳注：この例において独立変数とはモデルに入力する画像データxであり、従属変数はその画像に対応するラベルyのことを指します）"
      ]
    },
    {
      "cell_type": "code",
      "metadata": {
        "id": "0n7iFPq915XQ"
      },
      "source": [
        "from torch.utils.data import TensorDataset"
      ],
      "execution_count": 31,
      "outputs": []
    },
    {
      "cell_type": "markdown",
      "metadata": {
        "id": "B5qTZ2w0P22e"
      },
      "source": [
        "Both x_train and y_train can be combined in a single TensorDataset, which will be easier to iterate over and slice."
      ]
    },
    {
      "cell_type": "code",
      "metadata": {
        "id": "7gN8-jJKP7or"
      },
      "source": [
        "train_ds = TensorDataset(x_train, y_train)"
      ],
      "execution_count": 32,
      "outputs": []
    },
    {
      "cell_type": "markdown",
      "metadata": {
        "id": "5dBUjc0nQDuI"
      },
      "source": [
        "Previously, we had to iterate through minibatches of x and y values separately:"
      ]
    },
    {
      "cell_type": "code",
      "metadata": {
        "id": "DNfSLCoNQHlK"
      },
      "source": [
        "#xb = x_train[start_i:end_i]\n",
        "#yb = y_train[start_i:end_i]"
      ],
      "execution_count": 33,
      "outputs": []
    },
    {
      "cell_type": "markdown",
      "metadata": {
        "id": "h9XLWxAUQKZz"
      },
      "source": [
        "Now, we can do these two steps together:"
      ]
    },
    {
      "cell_type": "code",
      "metadata": {
        "id": "k_SCr09qQTlB"
      },
      "source": [
        "#xb,yb = train_ds[i*bs : i*bs+bs]"
      ],
      "execution_count": 34,
      "outputs": []
    },
    {
      "cell_type": "code",
      "metadata": {
        "colab": {
          "base_uri": "https://localhost:8080/"
        },
        "id": "TubULvJhQmDe",
        "outputId": "2aa3f5fc-b215-46db-ec54-412230ed1e70"
      },
      "source": [
        "model,opt=get_model()\n",
        "\n",
        "for epoch in range(epochs):\n",
        "  for i in range((n-1)//bs+1):\n",
        "    xb,yb=train_ds[i*bs:i*bs+bs]\n",
        "    pred=model(xb)\n",
        "    loss=loss_func(pred,yb)\n",
        "\n",
        "    loss.backward()\n",
        "    opt.step()\n",
        "    opt.zero_grad()\n",
        "\n",
        "print(loss_func(model(xb),yb))"
      ],
      "execution_count": 35,
      "outputs": [
        {
          "output_type": "stream",
          "text": [
            "tensor(0.0831, grad_fn=<NllLossBackward>)\n"
          ],
          "name": "stdout"
        }
      ]
    },
    {
      "cell_type": "markdown",
      "metadata": {
        "id": "LD4RZraaQXiE"
      },
      "source": [
        "\n",
        "Refactor using DataLoader\n",
        "\n",
        "Pytorch’s DataLoader is responsible for managing batches. You can create a DataLoader from any Dataset. DataLoader makes it easier to iterate over batches. Rather than having to use train_ds[i*bs : i*bs+bs], the DataLoader gives us each minibatch automatically."
      ]
    },
    {
      "cell_type": "code",
      "metadata": {
        "id": "Up7YCHDuQhRe"
      },
      "source": [
        "from torch.utils.data import DataLoader\n",
        "\n",
        "train_ds=TensorDataset(x_train,y_train)\n",
        "train_dl=DataLoader(train_ds,batch_size=bs)"
      ],
      "execution_count": 36,
      "outputs": []
    },
    {
      "cell_type": "markdown",
      "metadata": {
        "id": "PiZu6V1YQWak"
      },
      "source": [
        "previously, our loop iterated over batches (xb,yb) like this:"
      ]
    },
    {
      "cell_type": "code",
      "metadata": {
        "id": "M1Cke3uovBOj"
      },
      "source": [
        "#for i in range((n-1)//bs + 1):\n",
        "#    xb,yb = train_ds[i*bs : i*bs+bs]\n",
        "#    pred = model(xb)"
      ],
      "execution_count": 37,
      "outputs": []
    },
    {
      "cell_type": "markdown",
      "metadata": {
        "id": "ebFgmezVvJIG"
      },
      "source": [
        "Now, our loop is much cleaner, as (xb,yb) are loaded automatically from the data loader:"
      ]
    },
    {
      "cell_type": "code",
      "metadata": {
        "id": "vLTfzTyuvXea"
      },
      "source": [
        "#or xb,yb in train_dl:\n",
        "#  pred=model(xb)"
      ],
      "execution_count": 38,
      "outputs": []
    },
    {
      "cell_type": "code",
      "metadata": {
        "colab": {
          "base_uri": "https://localhost:8080/"
        },
        "id": "GN0zwW6ov4jt",
        "outputId": "b184a414-6ad6-4042-8903-982693c93006"
      },
      "source": [
        "model,opt=get_model()\n",
        "\n",
        "for epoch in range(epochs):\n",
        "  for xb, yb in train_dl:\n",
        "    pred=model(xb)\n",
        "    loss=loss_func(pred, yb)\n",
        "\n",
        "    loss.backward()\n",
        "    opt.step()\n",
        "    opt.zero_grad()\n",
        "\n",
        "print(loss_func(model(xb),yb))"
      ],
      "execution_count": 39,
      "outputs": [
        {
          "output_type": "stream",
          "text": [
            "tensor(0.0823, grad_fn=<NllLossBackward>)\n"
          ],
          "name": "stdout"
        }
      ]
    },
    {
      "cell_type": "markdown",
      "metadata": {
        "id": "uJ3QGbsexTQ5"
      },
      "source": [
        "Thanks to Pytorch’s nn.Module, nn.Parameter, Dataset, and DataLoader, our training loop is now dramatically smaller and easier to understand. Let’s now try to add the basic features necessary to create effecive models in practice."
      ]
    },
    {
      "cell_type": "markdown",
      "metadata": {
        "id": "ghhWO--gxfhK"
      },
      "source": [
        "Add validation\n",
        "\n",
        "In sectin 1, we were just trying to get a reasonable training loop set up for use on our training data. In reality, you always should also have a validation set, in order to identify if you are overfitting.\n",
        "\n",
        "Shuffling the training data is important to prevent correlation between batches and overfitting. On the other hand, the validation loss will be identical whether we shuffle the validation set or not. Since shuffling takes extra time, it makes no sense to shuffle the validation data.\n",
        "\n",
        "We’ll use a batch size for the validation set that is twice as large as that for the training set. This is because the validation set does not need backpropagation and thus takes less memory (it doesn’t need to store the gradients). We take advantage of this to use a larger batch size and compute the loss more quickly."
      ]
    },
    {
      "cell_type": "code",
      "metadata": {
        "id": "RHLJE0wZxRpV"
      },
      "source": [
        "train_ds=TensorDataset(x_train, y_train)\n",
        "train_dl=DataLoader(train_ds, batch_size=bs, shuffle=True)\n",
        "\n",
        "valid_ds=TensorDataset(x_valid,y_valid)\n",
        "valid_dl=DataLoader(valid_ds, batch_size=bs*2)\n"
      ],
      "execution_count": 40,
      "outputs": []
    },
    {
      "cell_type": "markdown",
      "metadata": {
        "id": "mqhmqrDCxR-Y"
      },
      "source": [
        "We will calculate and print the validation loss at the end of each epoch.\n",
        "\n",
        "(Note that we always call model.train() before training, and model.eval() before inference, because these are used by layers such as nn.BatchNorm2d and nn.Dropout to ensure appropriate behaviour for these different phases.)"
      ]
    },
    {
      "cell_type": "code",
      "metadata": {
        "colab": {
          "base_uri": "https://localhost:8080/"
        },
        "id": "4OoYxjgv0taE",
        "outputId": "a730df3a-a75f-48fd-8a3f-7bc3152a6e42"
      },
      "source": [
        "model, opt = get_model()\n",
        "for epoch in range(epochs):\n",
        "  model.train()\n",
        "  for xb,yb in train_dl:\n",
        "    pred=model(xb)\n",
        "    loss=loss_func(pred,yb)\n",
        "\n",
        "    loss.backward()\n",
        "    opt.step()\n",
        "    opt.zero_grad()\n",
        "  \n",
        "  model.eval()\n",
        "  with torch.no_grad():\n",
        "    valid_loss=sum(loss_func(model(xb),yb) for xb,yb in valid_dl)\n",
        "\n",
        "  print(epoch, valid_loss/len(valid_dl))\n"
      ],
      "execution_count": 41,
      "outputs": [
        {
          "output_type": "stream",
          "text": [
            "0 tensor(0.2979)\n",
            "1 tensor(0.2843)\n"
          ],
          "name": "stdout"
        }
      ]
    },
    {
      "cell_type": "markdown",
      "metadata": {
        "id": "SSlud5i5bISQ"
      },
      "source": [
        "Create fit() and get_data()\n",
        "\n",
        "We’ll now do a little refactoring of our own. Since we go through a similar process twice of calculating the loss for both the training set and the validation set, let’s make that into its own function, loss_batch, which computes the loss for one batch.\n",
        "\n",
        "We pass an optimizer in for the training set, and use it to perform backprop. For the validation set, we don’t pass an optimizer, so the method doesn’t perform backprop."
      ]
    },
    {
      "cell_type": "code",
      "metadata": {
        "id": "YiCRPyNRjD-Y"
      },
      "source": [
        "def loss_batch(model, loss_func, xb, yb, opt=None):\n",
        "    loss = loss_func(model(xb), yb)\n",
        "\n",
        "    if opt is not None:\n",
        "        loss.backward()\n",
        "        opt.step()\n",
        "        opt.zero_grad()\n",
        "\n",
        "    return loss.item(), len(xb)"
      ],
      "execution_count": 42,
      "outputs": []
    },
    {
      "cell_type": "markdown",
      "metadata": {
        "id": "OM_WPhLGlSEE"
      },
      "source": [
        "fit runs the necessary operations to train our model and compute the training and validation losses for each epoch."
      ]
    },
    {
      "cell_type": "code",
      "metadata": {
        "id": "_Mg2flollTO5"
      },
      "source": [
        "import numpy as np\n",
        "\n",
        "def fit(epochs, model, loss_func, opt, train_dl, valid_dl):\n",
        "    for epoch in range(epochs):\n",
        "        model.train()\n",
        "        for xb, yb in train_dl:\n",
        "            loss_batch(model, loss_func, xb, yb, opt)\n",
        "\n",
        "        model.eval()\n",
        "        with torch.no_grad():\n",
        "            losses, nums = zip(\n",
        "                *[loss_batch(model, loss_func, xb, yb) for xb, yb in valid_dl]\n",
        "            )\n",
        "        val_loss = np.sum(np.multiply(losses, nums)) / np.sum(nums)\n",
        "\n",
        "        print(epoch, val_loss)"
      ],
      "execution_count": 43,
      "outputs": []
    },
    {
      "cell_type": "markdown",
      "metadata": {
        "id": "Mw6ef6ksmp2m"
      },
      "source": [
        "get_data returns dataloaders for the training and validation sets."
      ]
    },
    {
      "cell_type": "code",
      "metadata": {
        "id": "CooeE4WkmzNI"
      },
      "source": [
        "def get_data(train_ds, valid_ds, bs):\n",
        "    return (\n",
        "        DataLoader(train_ds, batch_size=bs, shuffle=True),\n",
        "        DataLoader(valid_ds, batch_size=bs * 2),\n",
        "    )"
      ],
      "execution_count": 44,
      "outputs": []
    },
    {
      "cell_type": "markdown",
      "metadata": {
        "id": "Pc-drl4iprza"
      },
      "source": [
        "Now, our whole process of obtaining the data loaders and fitting the model can be run in 3 lines of code:"
      ]
    },
    {
      "cell_type": "code",
      "metadata": {
        "colab": {
          "base_uri": "https://localhost:8080/"
        },
        "id": "wNXfovXvptLp",
        "outputId": "f8f342bd-9924-4d93-9a9e-977e95894a83"
      },
      "source": [
        "train_dl, valid_dl = get_data(train_ds, valid_ds, bs)\n",
        "model, opt = get_model()\n",
        "fit(epochs, model, loss_func, opt, train_dl, valid_dl)"
      ],
      "execution_count": 45,
      "outputs": [
        {
          "output_type": "stream",
          "text": [
            "0 0.3259681526184082\n",
            "1 0.28304121275544164\n"
          ],
          "name": "stdout"
        }
      ]
    },
    {
      "cell_type": "markdown",
      "metadata": {
        "id": "f4N6ErTrnvRU"
      },
      "source": [
        "You can use these basic 3 lines of code to train a wide variety of models. Let’s see if we can use them to train a convolutional neural network (CNN)!"
      ]
    },
    {
      "cell_type": "code",
      "metadata": {
        "id": "tWGrXUbirvlU"
      },
      "source": [
        ""
      ],
      "execution_count": 45,
      "outputs": []
    },
    {
      "cell_type": "markdown",
      "metadata": {
        "id": "f2GGqI06r4jV"
      },
      "source": [
        "Switch to CNN\n",
        "\n",
        "We are now going to build our neural network with three convolutional layers. Because none of the functions in the previous section assume anything about the model form, we’ll be able to use them to train a CNN without any modification.\n",
        "\n",
        "We will use Pytorch’s predefined Conv2d class as our convolutional layer. We define a CNN with 3 convolutional layers. Each convolution is followed by a ReLU. At the end, we perform an average pooling. (Note that view is PyTorch’s version of numpy’s reshape)"
      ]
    },
    {
      "cell_type": "code",
      "metadata": {
        "id": "SjW0kVbNsKQZ"
      },
      "source": [
        "class Minist_CNN(nn.Module):\n",
        "  def __init__(self):\n",
        "    super().__init__()\n",
        "    self.conv1 = nn.Conv2d(1,16, kernel_size=3, stride=2, padding=1)\n",
        "    self.conv2 = nn.Conv2d(16,16, kernel_size=3, stride=2, padding=1)\n",
        "    self.conv3 = nn.Conv2d(16,16, kernel_size=3, stride=2, padding=1)\n",
        "\n",
        "  def forward(self,xb):\n",
        "    xb=xb.view(-1,1,28,28)\n",
        "    xb=F.relu(self.conv1(xb))\n",
        "    xb=F.relu(self.conv2(xb))\n",
        "    xb=F.relu(self.conv3(xb))\n",
        "    xb=F.avg_pool2d(xb,4)\n",
        "    return xb.view(-1,xb.size(1))\n",
        "\n",
        "lr=0.1\n"
      ],
      "execution_count": 50,
      "outputs": []
    },
    {
      "cell_type": "markdown",
      "metadata": {
        "id": "3jTAM1i20VWZ"
      },
      "source": [
        "Momentum is a variation on stochastic gradient descent that takes previous updates into account as well and generally leads to faster training."
      ]
    },
    {
      "cell_type": "code",
      "metadata": {
        "colab": {
          "base_uri": "https://localhost:8080/"
        },
        "id": "972MSXQCwm9W",
        "outputId": "2dce98b6-8b3a-4c01-f8f4-84c5237386a7"
      },
      "source": [
        "model=Minist_CNN()\n",
        "opt=optim.SGD(model.parameters(),lr=lr,momentum=0.9)\n",
        "\n",
        "fit(epochs,model,loss_func,opt,train_dl,valid_dl)\n"
      ],
      "execution_count": 51,
      "outputs": [
        {
          "output_type": "stream",
          "text": [
            "0 0.41231519821882245\n",
            "1 0.257421371114254\n"
          ],
          "name": "stdout"
        }
      ]
    },
    {
      "cell_type": "markdown",
      "metadata": {
        "id": "H_tR8flV0Zze"
      },
      "source": [
        "nn.Sequential\n",
        "\n",
        "torch.nn has another handy class we can use to simply our code: Sequential . A Sequential object runs each of the modules contained within it, in a sequential manner. This is a simpler way of writing our neural network.\n",
        "\n",
        "To take advantage of this, we need to be able to easily define a custom layer from a given function. For instance, PyTorch doesn’t have a view layer, and we need to create one for our network. Lambda will create a layer that we can then use when defining a network with Sequential.\n",
        "\n",
        "（日本語訳注） 最新のPyTorchでは、nn.Flattenが追加されて、最後のフラット化（1次元化）をする以下のオリジナルモジュールの役割を担います。"
      ]
    },
    {
      "cell_type": "code",
      "metadata": {
        "id": "z-jSnUAVyKn7"
      },
      "source": [
        "class Lambda(nn.Module):\n",
        "    def __init__(self, func):\n",
        "        super().__init__()\n",
        "        self.func = func\n",
        "\n",
        "    def forward(self, x):\n",
        "        return self.func(x)\n",
        "\n",
        "\n",
        "def preprocess(x):\n",
        "    return x.view(-1, 1, 28, 28)"
      ],
      "execution_count": null,
      "outputs": []
    },
    {
      "cell_type": "markdown",
      "metadata": {
        "id": "JwF_dA1cy4QH"
      },
      "source": [
        "The model created with Sequential is simply:"
      ]
    },
    {
      "cell_type": "code",
      "metadata": {
        "id": "QmCKVbc5xq5P"
      },
      "source": [
        "model = nn.Sequential(\n",
        "    Lambda(preprocess),\n",
        "    nn.Conv2d(1, 16, kernel_size=3, stride=2, padding=1),\n",
        "    nn.ReLU(),\n",
        "    nn.Conv2d(16, 16, kernel_size=3, stride=2, padding=1),\n",
        "    nn.ReLU(),\n",
        "    nn.Conv2d(16, 10, kernel_size=3, stride=2, padding=1),\n",
        "    nn.ReLU(),\n",
        "    nn.AvgPool2d(4),\n",
        "    Lambda(lambda x: x.view(x.size(0), -1)),\n",
        ")\n",
        "\n",
        "opt = optim.SGD(model.parameters(), lr=lr, momentum=0.9)\n",
        "\n",
        "fit(epochs, model, loss_func, opt, train_dl, valid_dl)"
      ],
      "execution_count": null,
      "outputs": []
    },
    {
      "cell_type": "code",
      "metadata": {
        "id": "wI08qVwyztv1"
      },
      "source": [
        "# 日本語訳注：最新のnn.Flatten()を使用した場合\n",
        "\n",
        "model = nn.Sequential(\n",
        "    Lambda(preprocess),  # これはnn.Flatten()では対応できないので、このまま\n",
        "    nn.Conv2d(1, 16, kernel_size=3, stride=2, padding=1),\n",
        "    nn.ReLU(),\n",
        "    nn.Conv2d(16, 16, kernel_size=3, stride=2, padding=1),\n",
        "    nn.ReLU(),\n",
        "    nn.Conv2d(16, 10, kernel_size=3, stride=2, padding=1),\n",
        "    nn.ReLU(),\n",
        "    nn.AvgPool2d(4),\n",
        "    # Lambda(lambda x: x.view(x.size(0), -1)),\n",
        "    nn.Flatten()  # 上記Lambdaの代わり\n",
        ")\n",
        "\n",
        "opt = optim.SGD(model.parameters(), lr=lr, momentum=0.9)\n",
        "\n",
        "fit(epochs, model, loss_func, opt, train_dl, valid_dl)"
      ],
      "execution_count": null,
      "outputs": []
    },
    {
      "cell_type": "markdown",
      "metadata": {
        "id": "eoUmuGO1zMAp"
      },
      "source": [
        "Wrapping DataLoader\n",
        "\n",
        "Our CNN is fairly concise, but it only works with MNIST, because:\n",
        "It assumes the input is a 28*28 long vector\n",
        "It assumes that the final CNN grid size is 4*4 (since that’s the average\n",
        "\n",
        "pooling kernel size we used)\n",
        "\n",
        "Let’s get rid of these two assumptions, so our model works with any 2d single channel image. First, we can remove the initial Lambda layer but moving the data preprocessing into a generator:"
      ]
    },
    {
      "cell_type": "code",
      "metadata": {
        "id": "djhG39RV0LeV"
      },
      "source": [
        "def preprocess(x, y):\n",
        "    return x.view(-1, 1, 28, 28), y\n",
        "\n",
        "\n",
        "class WrappedDataLoader:\n",
        "    def __init__(self, dl, func):\n",
        "        self.dl = dl\n",
        "        self.func = func\n",
        "\n",
        "    def __len__(self):\n",
        "        return len(self.dl)\n",
        "\n",
        "    def __iter__(self):\n",
        "        batches = iter(self.dl)\n",
        "        for b in batches:\n",
        "            yield (self.func(*b))\n",
        "\n",
        "train_dl, valid_dl = get_data(train_ds, valid_ds, bs)\n",
        "train_dl = WrappedDataLoader(train_dl, preprocess)\n",
        "valid_dl = WrappedDataLoader(valid_dl, preprocess)"
      ],
      "execution_count": null,
      "outputs": []
    },
    {
      "cell_type": "markdown",
      "metadata": {
        "id": "Qh3UqJDd0gmd"
      },
      "source": [
        "Next, we can replace nn.AvgPool2d with nn.AdaptiveAvgPool2d, which allows us to define the size of the output tensor we want, rather than the input tensor we have. As a result, our model will work with any size input.\n",
        "\n"
      ]
    },
    {
      "cell_type": "code",
      "metadata": {
        "id": "6S9Pcv_90sVa"
      },
      "source": [
        "model = nn.Sequential(\n",
        "    nn.Conv2d(1, 16, kernel_size=3, stride=2, padding=1),\n",
        "    nn.ReLU(),\n",
        "    nn.Conv2d(16, 16, kernel_size=3, stride=2, padding=1),\n",
        "    nn.ReLU(),\n",
        "    nn.Conv2d(16, 10, kernel_size=3, stride=2, padding=1),\n",
        "    nn.ReLU(),\n",
        "    nn.AdaptiveAvgPool2d(1),\n",
        "    Lambda(lambda x: x.view(x.size(0), -1)),\n",
        ")\n",
        "\n",
        "opt = optim.SGD(model.parameters(), lr=lr, momentum=0.9)"
      ],
      "execution_count": null,
      "outputs": []
    },
    {
      "cell_type": "markdown",
      "metadata": {
        "id": "ODVUZ7Pn0rld"
      },
      "source": [
        ""
      ]
    },
    {
      "cell_type": "code",
      "metadata": {
        "id": "HlDYpX6C0ry_"
      },
      "source": [
        "%%time\n",
        "\n",
        "fit(epochs, model, loss_func, opt, train_dl, valid_dl)"
      ],
      "execution_count": null,
      "outputs": []
    },
    {
      "cell_type": "markdown",
      "metadata": {
        "id": "VcSJBhS22M87"
      },
      "source": [
        "Using your GPU\n",
        "\n",
        "If you’re lucky enough to have access to a CUDA-capable GPU (you can rent one for about $0.50/hour from most cloud providers) you can use it to speed up your code. First check that your GPU is working in Pytorch:"
      ]
    },
    {
      "cell_type": "code",
      "metadata": {
        "colab": {
          "base_uri": "https://localhost:8080/",
          "height": 168
        },
        "id": "_WAsGt0o2WZJ",
        "outputId": "57377b6a-937c-457d-c4c4-9f33ab1b7ca7"
      },
      "source": [
        "print(torch.cuda.is_available())"
      ],
      "execution_count": 1,
      "outputs": [
        {
          "output_type": "error",
          "ename": "NameError",
          "evalue": "ignored",
          "traceback": [
            "\u001b[0;31m---------------------------------------------------------------------------\u001b[0m",
            "\u001b[0;31mNameError\u001b[0m                                 Traceback (most recent call last)",
            "\u001b[0;32m<ipython-input-1-1b2a1a5619bb>\u001b[0m in \u001b[0;36m<module>\u001b[0;34m()\u001b[0m\n\u001b[0;32m----> 1\u001b[0;31m \u001b[0mprint\u001b[0m\u001b[0;34m(\u001b[0m\u001b[0mtorch\u001b[0m\u001b[0;34m.\u001b[0m\u001b[0mcuda\u001b[0m\u001b[0;34m.\u001b[0m\u001b[0mis_available\u001b[0m\u001b[0;34m(\u001b[0m\u001b[0;34m)\u001b[0m\u001b[0;34m)\u001b[0m\u001b[0;34m\u001b[0m\u001b[0;34m\u001b[0m\u001b[0m\n\u001b[0m",
            "\u001b[0;31mNameError\u001b[0m: name 'torch' is not defined"
          ]
        }
      ]
    },
    {
      "cell_type": "markdown",
      "metadata": {
        "id": "iq2Gcyt-2tC4"
      },
      "source": [
        "Let’s update preprocess to move batches to the GPU:"
      ]
    },
    {
      "cell_type": "code",
      "metadata": {
        "id": "bUyDgvvR2aRg"
      },
      "source": [
        "dev = torch.device(\n",
        "    \"cuda\") if torch.cuda.is_available() else torch.device(\"cpu\")"
      ],
      "execution_count": null,
      "outputs": []
    },
    {
      "cell_type": "markdown",
      "metadata": {
        "id": "2fxNUhuH2iuL"
      },
      "source": [
        "Finally, we can move our model to the GPU"
      ]
    },
    {
      "cell_type": "code",
      "metadata": {
        "id": "upaybjuO2epe"
      },
      "source": [
        "model.to(dev)\n",
        "opt = optim.SGD(model.parameters(), lr=lr, momentum=0.9)\n"
      ],
      "execution_count": null,
      "outputs": []
    },
    {
      "cell_type": "markdown",
      "metadata": {
        "id": "iuWCU64R2iLG"
      },
      "source": [
        "You should find it runs faster now:"
      ]
    },
    {
      "cell_type": "code",
      "metadata": {
        "id": "4bHdZ_Fc2fdC"
      },
      "source": [
        "fit(epochs, model, loss_func, opt, train_dl, valid_dl)"
      ],
      "execution_count": null,
      "outputs": []
    },
    {
      "cell_type": "code",
      "metadata": {
        "id": "EdaLU7Ck2fe1"
      },
      "source": [
        ""
      ],
      "execution_count": null,
      "outputs": []
    }
  ]
}